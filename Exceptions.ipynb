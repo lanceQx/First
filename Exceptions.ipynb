{
 "cells": [
  {
   "cell_type": "markdown",
   "id": "a16614a4",
   "metadata": {},
   "source": [
    "### Задание 1"
   ]
  },
  {
   "cell_type": "code",
   "execution_count": 15,
   "id": "0000981f",
   "metadata": {
    "scrolled": true
   },
   "outputs": [],
   "source": [
    "# Печатные газеты использовали свой формат дат для каждого выпуска. \n",
    "# Для каждой газеты из списка напишите формат указанной даты для перевода в объект datetime:\n",
    "# The Moscow Times - Wednesday, October 2, 2002\n",
    "# The Guardian - Friday, 11.10.13\n",
    "# Daily News - Thursday, 18 August 1977\n",
    "\n",
    "from datetime import datetime\n",
    "The_Moscow_Times = 'Wednesday, October 2, 2002'\n",
    "The_Guardian = 'Friday, 11.10.13'\n",
    "Daily_News = 'Thursday, 18 August 1977'\n",
    "one_gazet = datetime.strptime(The_Moscow_Times, '%A, %B %d, %Y')\n",
    "two_gazet = datetime.strptime(The_Guardian, '%A, %d.%m.%y')\n",
    "three_gazet = datetime.strptime(Daily_News, '%A, %d %B %Y')\n"
   ]
  },
  {
   "cell_type": "markdown",
   "id": "cf4f4098",
   "metadata": {},
   "source": [
    "### Задание 2"
   ]
  },
  {
   "cell_type": "code",
   "execution_count": 25,
   "id": "7781be16",
   "metadata": {},
   "outputs": [
    {
     "name": "stdout",
     "output_type": "stream",
     "text": [
      "True\n",
      "False\n",
      "False\n"
     ]
    }
   ],
   "source": [
    "from datetime import datetime\n",
    "stream = ['2018-04-02', '2018-02-29', '2018-19-02']\n",
    "for date in stream:\n",
    "    try:\n",
    "        datetime.strptime(date, '%Y-%m-%d')\n",
    "        print(True)\n",
    "    except:\n",
    "        print(False)\n",
    "        "
   ]
  },
  {
   "cell_type": "markdown",
   "id": "00e019bd",
   "metadata": {},
   "source": [
    "### Задание 3"
   ]
  },
  {
   "cell_type": "code",
   "execution_count": 39,
   "id": "2f6781e8",
   "metadata": {},
   "outputs": [
    {
     "name": "stdout",
     "output_type": "stream",
     "text": [
      "2018-02-01 00:00:00\n",
      "2018-02-02 00:00:00\n",
      "2018-02-03 00:00:00\n",
      "2018-02-04 00:00:00\n",
      "2018-02-05 00:00:00\n",
      "2018-02-06 00:00:00\n",
      "2018-02-07 00:00:00\n",
      "2018-02-08 00:00:00\n",
      "2018-02-09 00:00:00\n",
      "2018-02-10 00:00:00\n",
      "2018-02-11 00:00:00\n",
      "2018-02-12 00:00:00\n",
      "2018-02-13 00:00:00\n",
      "2018-02-14 00:00:00\n",
      "2018-02-15 00:00:00\n",
      "2018-02-16 00:00:00\n",
      "2018-02-17 00:00:00\n",
      "2018-02-18 00:00:00\n",
      "2018-02-19 00:00:00\n",
      "2018-02-20 00:00:00\n",
      "2018-02-21 00:00:00\n",
      "2018-02-22 00:00:00\n",
      "2018-02-23 00:00:00\n",
      "2018-02-24 00:00:00\n",
      "2018-02-25 00:00:00\n",
      "2018-02-26 00:00:00\n",
      "2018-02-27 00:00:00\n",
      "2018-02-28 00:00:00\n",
      "2018-03-01 00:00:00\n"
     ]
    }
   ],
   "source": [
    "# Напишите функцию date_range, которая возвращает список дат за период от start_date до end_date. \n",
    "# Даты должны вводиться в формате YYYY-MM-DD. В случае неверного формата или при start_date > end_date \n",
    "# должен возвращаться пустой список.\n",
    "\n",
    "from datetime import datetime\n",
    "from datetime import timedelta\n",
    "\n",
    "spisok = []\n",
    "def date_range(start_day, end_day):\n",
    "    try:\n",
    "        start_day = datetime.strptime(start_day, '%Y-%m-%d')\n",
    "        end_day = datetime.strptime(end_day, '%Y-%m-%d')\n",
    "    except:\n",
    "        return spisok\n",
    "    if start_day > end_day:\n",
    "        print(spisok)\n",
    "    else:\n",
    "        while start_day <= end_day:\n",
    "            print(start_day) \n",
    "            start_day += timedelta(days=1)\n",
    "date_range('2018-02-01','2018-03-01')"
   ]
  }
 ],
 "metadata": {
  "kernelspec": {
   "display_name": "Python 3 (ipykernel)",
   "language": "python",
   "name": "python3"
  },
  "language_info": {
   "codemirror_mode": {
    "name": "ipython",
    "version": 3
   },
   "file_extension": ".py",
   "mimetype": "text/x-python",
   "name": "python",
   "nbconvert_exporter": "python",
   "pygments_lexer": "ipython3",
   "version": "3.11.4"
  }
 },
 "nbformat": 4,
 "nbformat_minor": 5
}
